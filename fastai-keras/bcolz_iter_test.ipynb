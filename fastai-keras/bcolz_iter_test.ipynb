{
 "cells": [
  {
   "cell_type": "code",
   "execution_count": 1,
   "metadata": {
    "ExecuteTime": {
     "end_time": "2018-01-10T14:31:18.850522Z",
     "start_time": "2018-01-10T14:31:18.576965Z"
    }
   },
   "outputs": [],
   "source": [
    "# - module bcolz_array_iterator2 not available, using bcolz_array_iterator\n",
    "#from bcolz_array_iterator2 import BcolzArrayIterator2  \n",
    "from bcolz_array_iterator import BcolzArrayIterator "
   ]
  },
  {
   "cell_type": "code",
   "execution_count": 2,
   "metadata": {
    "ExecuteTime": {
     "end_time": "2018-01-10T14:31:18.854116Z",
     "start_time": "2018-01-10T14:31:18.852109Z"
    }
   },
   "outputs": [],
   "source": [
    "from bcolz import carray"
   ]
  },
  {
   "cell_type": "code",
   "execution_count": 3,
   "metadata": {
    "ExecuteTime": {
     "end_time": "2018-01-10T14:31:18.877578Z",
     "start_time": "2018-01-10T14:31:18.855511Z"
    }
   },
   "outputs": [],
   "source": [
    "import numpy as np"
   ]
  },
  {
   "cell_type": "code",
   "execution_count": 4,
   "metadata": {
    "ExecuteTime": {
     "end_time": "2018-01-10T14:31:18.907061Z",
     "start_time": "2018-01-10T14:31:18.878994Z"
    }
   },
   "outputs": [
    {
     "data": {
      "text/plain": [
       "array([ 0,  1,  2,  3,  4,  5,  6,  7,  8,  9, 10, 11, 12, 13])"
      ]
     },
     "execution_count": 4,
     "metadata": {},
     "output_type": "execute_result"
    }
   ],
   "source": [
    "x = np.arange(14); x"
   ]
  },
  {
   "cell_type": "code",
   "execution_count": 5,
   "metadata": {
    "ExecuteTime": {
     "end_time": "2018-01-10T14:31:18.929684Z",
     "start_time": "2018-01-10T14:31:18.908318Z"
    }
   },
   "outputs": [
    {
     "data": {
      "text/plain": [
       "array([ 0,  1,  2,  3,  4,  5,  6,  7,  8,  9, 10, 11, 12, 13])"
      ]
     },
     "execution_count": 5,
     "metadata": {},
     "output_type": "execute_result"
    }
   ],
   "source": [
    "y = np.arange(14); y"
   ]
  },
  {
   "cell_type": "code",
   "execution_count": 6,
   "metadata": {
    "ExecuteTime": {
     "end_time": "2018-01-10T14:31:18.952866Z",
     "start_time": "2018-01-10T14:31:18.932399Z"
    }
   },
   "outputs": [],
   "source": [
    "x = carray(x, chunklen=3)\n",
    "y = carray(y, chunklen=3)"
   ]
  },
  {
   "cell_type": "code",
   "execution_count": 7,
   "metadata": {
    "ExecuteTime": {
     "end_time": "2018-01-10T14:31:18.975310Z",
     "start_time": "2018-01-10T14:31:18.955000Z"
    }
   },
   "outputs": [],
   "source": [
    "# - module bcolz_array_iterator2 not available, using bcolz_array_iterator\n",
    "#b = BcolzArrayIterator2(x, y, shuffle=True, batch_size=3)\n",
    "b = BcolzArrayIterator(x, y, shuffle=True, batch_size=3)"
   ]
  },
  {
   "cell_type": "code",
   "execution_count": 8,
   "metadata": {
    "ExecuteTime": {
     "end_time": "2018-01-10T14:31:19.003191Z",
     "start_time": "2018-01-10T14:31:18.977356Z"
    }
   },
   "outputs": [
    {
     "data": {
      "text/plain": [
       "14"
      ]
     },
     "execution_count": 8,
     "metadata": {},
     "output_type": "execute_result"
    }
   ],
   "source": [
    "b.N"
   ]
  },
  {
   "cell_type": "code",
   "execution_count": 9,
   "metadata": {
    "ExecuteTime": {
     "end_time": "2018-01-10T14:31:19.025683Z",
     "start_time": "2018-01-10T14:31:19.005221Z"
    }
   },
   "outputs": [
    {
     "data": {
      "text/plain": [
       "5"
      ]
     },
     "execution_count": 9,
     "metadata": {},
     "output_type": "execute_result"
    }
   ],
   "source": [
    "nit = len(x)//b.batch_size+1; nit"
   ]
  },
  {
   "cell_type": "code",
   "execution_count": 10,
   "metadata": {
    "ExecuteTime": {
     "end_time": "2018-01-10T14:31:20.407336Z",
     "start_time": "2018-01-10T14:31:19.027557Z"
    }
   },
   "outputs": [],
   "source": [
    "for j in range(10000):\n",
    "    bx,by = list(zip(*[next(b) for i in range(nit)]))\n",
    "    nx = np.concatenate(bx)\n",
    "    ny = np.concatenate(by)\n",
    "    assert(np.allclose(nx,ny))\n",
    "    assert(len(np.unique(nx))==len(nx))"
   ]
  },
  {
   "cell_type": "code",
   "execution_count": 11,
   "metadata": {
    "ExecuteTime": {
     "end_time": "2018-01-10T14:31:20.414801Z",
     "start_time": "2018-01-10T14:31:20.408619Z"
    }
   },
   "outputs": [
    {
     "data": {
      "text/plain": [
       "[(array([0, 1, 2]), array([0, 1, 2])),\n",
       " (array([6, 7, 8]), array([6, 7, 8])),\n",
       " (array([3, 4, 5]), array([3, 4, 5])),\n",
       " (array([ 9, 10, 11]), array([ 9, 10, 11])),\n",
       " (array([12, 13]), array([12, 13])),\n",
       " (array([ 9, 10, 11]), array([ 9, 10, 11])),\n",
       " (array([12, 13]), array([12, 13])),\n",
       " (array([3, 4, 5]), array([3, 4, 5])),\n",
       " (array([0, 1, 2]), array([0, 1, 2])),\n",
       " (array([6, 7, 8]), array([6, 7, 8])),\n",
       " (array([0, 1, 2]), array([0, 1, 2])),\n",
       " (array([3, 4, 5]), array([3, 4, 5])),\n",
       " (array([6, 7, 8]), array([6, 7, 8])),\n",
       " (array([12, 13]), array([12, 13])),\n",
       " (array([ 9, 10, 11]), array([ 9, 10, 11])),\n",
       " (array([ 9, 10, 11]), array([ 9, 10, 11])),\n",
       " (array([3, 4, 5]), array([3, 4, 5])),\n",
       " (array([0, 1, 2]), array([0, 1, 2])),\n",
       " (array([12, 13]), array([12, 13])),\n",
       " (array([6, 7, 8]), array([6, 7, 8]))]"
      ]
     },
     "execution_count": 11,
     "metadata": {},
     "output_type": "execute_result"
    }
   ],
   "source": [
    "[next(b) for i in range(20)]"
   ]
  },
  {
   "cell_type": "code",
   "execution_count": null,
   "metadata": {},
   "outputs": [],
   "source": []
  }
 ],
 "metadata": {
  "kernelspec": {
   "display_name": "p3",
   "language": "python",
   "name": "p3"
  },
  "language_info": {
   "codemirror_mode": {
    "name": "ipython",
    "version": 3
   },
   "file_extension": ".py",
   "mimetype": "text/x-python",
   "name": "python",
   "nbconvert_exporter": "python",
   "pygments_lexer": "ipython3",
   "version": "3.5.2"
  },
  "toc": {
   "colors": {
    "hover_highlight": "#DAA520",
    "navigate_num": "#000000",
    "navigate_text": "#333333",
    "running_highlight": "#FF0000",
    "selected_highlight": "#FFD700",
    "sidebar_border": "#EEEEEE",
    "wrapper_background": "#FFFFFF"
   },
   "moveMenuLeft": true,
   "nav_menu": {
    "height": "12px",
    "width": "252px"
   },
   "navigate_menu": true,
   "number_sections": true,
   "sideBar": true,
   "threshold": 4,
   "toc_cell": false,
   "toc_section_display": "block",
   "toc_window_display": false,
   "widenNotebook": false
  }
 },
 "nbformat": 4,
 "nbformat_minor": 2
}
